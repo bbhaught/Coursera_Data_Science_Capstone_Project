{
    "cells": [
        {
            "cell_type": "markdown",
            "metadata": {
                "collapsed": true
            },
            "source": "# Capstone Project for Coursera Data Science Certification\n\n## Car Accidents in the UK 2005-2015"
        },
        {
            "cell_type": "markdown",
            "metadata": {},
            "source": "### Introduction\n\nTransportation is a major part of the economy and our everyday lives.   Car accidents and severity of car accidents are a major cause for public concern.  Traffic engineers and road planners are constantly trying to research ways to improve traffic flow and safety to prevent accidents.  This project will delve into the factors that are the cause of accidents in an effort to determine if the accidents encountered could be prevented or at the least, to reduce the severity of the accidents.  \n\nSome of the questions we will answer are:\n- Can we predict accidents?\n- Is there anything we can change to prevent accidents?\n- Are there certain areas/conditions that have a higher chance of accidents?\n- Do areas change over time?\n- What areas do not change?  Are there infrastructure changes needed to address these areas?\n- Do types of roads affect accidents?\n"
        },
        {
            "cell_type": "markdown",
            "metadata": {},
            "source": "### Data\n\n\nThe data we will use for this study will be collected from the UK over 10 years from 2005 to 2015 using police reports.  These records recorded 1.6 million accidents and their corresponding data.   Due to only using police reports, minor accidents will not be included as they do not typically have police reports associated with them.  Data for 2008 is missing so this year will not be studied.\n\nData used to provide insight into the factors will include such things as age of drivers, speed, day of the week, time of day, location, rural or city areas, type of road, etc.   \n\nThis can provide insight to traffic engineers to determine if traffic patterns need to be adjusted to prevent accidents in certain locations.  This may include things such as changing speed limits, changing traffic patterns by establishing new roads, changing traffic patterns at certain times of day, etc.  \n\nData collected will use the AADT (\"Average Annual Daily Traffic\") method which can be described here:  https://en.wikipedia.org/wiki/Annual_average_daily_traffic\nThis is a way of computing the amount of traffic on a given road by using the amount of vehicles over a given section of road length.\n\n\n"
        },
        {
            "cell_type": "code",
            "execution_count": 7,
            "metadata": {},
            "outputs": [],
            "source": "# The code was removed by Watson Studio for sharing."
        },
        {
            "cell_type": "code",
            "execution_count": null,
            "metadata": {},
            "outputs": [],
            "source": ""
        }
    ],
    "metadata": {
        "kernelspec": {
            "display_name": "Python 3.6",
            "language": "python",
            "name": "python3"
        },
        "language_info": {
            "codemirror_mode": {
                "name": "ipython",
                "version": 3
            },
            "file_extension": ".py",
            "mimetype": "text/x-python",
            "name": "python",
            "nbconvert_exporter": "python",
            "pygments_lexer": "ipython3",
            "version": "3.6.9"
        }
    },
    "nbformat": 4,
    "nbformat_minor": 1
}